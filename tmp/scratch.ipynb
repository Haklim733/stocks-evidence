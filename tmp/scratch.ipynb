{
 "cells": [
  {
   "cell_type": "code",
   "execution_count": 59,
   "metadata": {},
   "outputs": [
    {
     "name": "stdout",
     "output_type": "stream",
     "text": [
      "┌───────────────┐\n",
      "│ database_name │\n",
      "│    varchar    │\n",
      "├───────────────┤\n",
      "│ stocks        │\n",
      "└───────────────┘\n",
      "\n",
      "┌─────────┐\n",
      "│  name   │\n",
      "│ varchar │\n",
      "├─────────┤\n",
      "│ 0 rows  │\n",
      "└─────────┘\n",
      "\n"
     ]
    }
   ],
   "source": [
    "import duckdb\n",
    "conn = duckdb.connect(\"sources/stocks.duckdb\")\n",
    "conn.sql(\"SHOW DATABASES;\").show()\n",
    "conn.sql(\"SHOW TABLES;\").show()\n",
    "# conn.sql(\"SHOW information_schema.tables\").show()\n",
    "# conn.execute(\"IMPORT DATABASE 'tmp/localdb'\")\n",
    "# conn.sql(\"PRAGMA import_database('tmp/localdb');\")\n",
    "# conn.sql(\"SHOW DATABASES;\").show()\n",
    "# conn.sql(\"SHOW TABLES;\").show()\n",
    "# conn.sql(\"SHOW information_schema.schemata\").show()\n",
    "# conn.sql(\"current_catalog();\").show()\n",
    "conn.close()"
   ]
  }
 ],
 "metadata": {
  "kernelspec": {
   "display_name": "bhsl-xUtjksLI-py3.11",
   "language": "python",
   "name": "python3"
  },
  "language_info": {
   "codemirror_mode": {
    "name": "ipython",
    "version": 3
   },
   "file_extension": ".py",
   "mimetype": "text/x-python",
   "name": "python",
   "nbconvert_exporter": "python",
   "pygments_lexer": "ipython3",
   "version": "3.11.8"
  }
 },
 "nbformat": 4,
 "nbformat_minor": 2
}
